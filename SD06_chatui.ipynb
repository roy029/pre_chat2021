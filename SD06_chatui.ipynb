{
  "nbformat": 4,
  "nbformat_minor": 0,
  "metadata": {
    "colab": {
      "name": "SD06_chatui.ipynb",
      "provenance": [],
      "collapsed_sections": []
    },
    "kernelspec": {
      "name": "python3",
      "display_name": "Python 3"
    },
    "language_info": {
      "name": "python"
    }
  },
  "cells": [
    {
      "cell_type": "markdown",
      "metadata": {
        "id": "A-yqR5mjFVxs"
      },
      "source": [
        "# チャットボットのUI\n",
        "\n",
        "クライアントは、最終的にLINEなどのチャットでの動作を期待しているようです。研究開発部から、占いシステムのため、チャット風のユーザインターフェースが届きました。\n",
        "\n",
        "来週は、チャットボットのUI への接続を説明します。今回は予習として、少しコードを読んで原理をみておきましょう。\n",
        "\n",
        "研究開発部が参考にした資料\n",
        "https://colab.research.google.com/notebooks/snippets/advanced_outputs.ipynb\n"
      ]
    },
    {
      "cell_type": "code",
      "metadata": {
        "id": "RQ4ekJnzBbiM"
      },
      "source": [
        "import time\n",
        "import random\n",
        "import IPython\n",
        "from google.colab import output\n",
        "\n",
        "\n",
        "n = 0 \n",
        "def chat(text, **kw):  #チャット用の関数（ここを書き換える）\n",
        "  global n\n",
        "  n += 1\n",
        "  return 'ほ' * n\n",
        "\n",
        "# アイコンの指定\n",
        "BOT_ICON = 'https://2.bp.blogspot.com/-mRJKwyORJkQ/Wn1ZTOBrszI/AAAAAAABKKs/Bg5yjLL9RYwmfUM0pEkBA3Ky3ui0IOZWQCLcBGAs/s800/animal_smile_inu.png'\n",
        "YOUR_ICON = 'https://4.bp.blogspot.com/-SC6_6x7MQnc/Wn1ZUkdcPxI/AAAAAAABKK8/qqHVlc8E7lEGsEwJ_J8H6Gp9RvfhTX67wCLcBGAs/s800/animal_smile_neko.png'\n",
        "\n",
        "def run_chat(chat = chat, start='占いするよ', **kw):\n",
        "\n",
        "  def display_bot(bot_text):\n",
        "    with output.redirect_to_element('#output'):\n",
        "      bot_name = kw.get('bot_name', 'ボット')\n",
        "      bot_icon = kw.get('bot_icon', BOT_ICON)\n",
        "      display(IPython.display.HTML(f'''\n",
        "      <div class=\"sb-box\">\n",
        "        <div class=\"icon-img icon-img-left\">\n",
        "            <img src=\"{bot_icon}\" width=\"60px\">\n",
        "        </div><!-- /.icon-img icon-img-left -->\n",
        "        <div class=\"icon-name icon-name-left\">{bot_name}</div>\n",
        "        <div class=\"sb-side sb-side-left\">\n",
        "            <div class=\"sb-txt sb-txt-left\">\n",
        "              {bot_text}\n",
        "            </div><!-- /.sb-txt sb-txt-left -->\n",
        "        </div><!-- /.sb-side sb-side-left -->\n",
        "    </div><!-- /.sb-box -->\n",
        "      '''))\n",
        "\n",
        "  def display_you(your_text):\n",
        "    with output.redirect_to_element('#output'):\n",
        "      your_name = kw.get('your_name', 'あなた')\n",
        "      your_icon = kw.get('your_icon', YOUR_ICON)\n",
        "\n",
        "      display(IPython.display.HTML(f'''\n",
        "      <div class=\"sb-box\">\n",
        "        <div class=\"icon-img icon-img-right\">\n",
        "            <img src=\"{your_icon}\" width=\"60px\">\n",
        "        </div><!-- /.icon-img icon-img-right -->\n",
        "        <div class=\"icon-name icon-name-right\">{your_name}</div>\n",
        "        <div class=\"sb-side sb-side-right\">\n",
        "            <div class=\"sb-txt sb-txt-right\">\n",
        "              {your_text}\n",
        "            </div><!-- /.sb-txt sb-txt-right -->\n",
        "        </div><!-- /.sb-side sb-side-right -->\n",
        "      </div><!-- /.sb-box -->\n",
        "      '''))\n",
        "\n",
        "  display(IPython.display.HTML('''\n",
        "      <style>\n",
        "        /* 全体 */\n",
        "        .sb-box {\n",
        "            position: relative;\n",
        "            overflow: hidden;\n",
        "        }\n",
        "\n",
        "        /* アイコン画像 */\n",
        "        .icon-img {\n",
        "            position: absolute;\n",
        "            overflow: hidden;\n",
        "            top: 0;\n",
        "            width: 80px;\n",
        "            height: 80px;\n",
        "        }\n",
        "\n",
        "        /* アイコン画像（左） */\n",
        "        .icon-img-left {\n",
        "            left: 0;\n",
        "        }\n",
        "\n",
        "        /* アイコン画像（右） */\n",
        "        .icon-img-right {\n",
        "            right: 0;\n",
        "        }\n",
        "\n",
        "        /* アイコン画像 */\n",
        "        .icon-img img {\n",
        "            border-radius: 50%;\n",
        "            border: 2px solid #eee;\n",
        "        }\n",
        "\n",
        "        /* アイコンネーム */\n",
        "        .icon-name {\n",
        "            position: absolute;\n",
        "            width: 80px;\n",
        "            text-align: center;\n",
        "            top: 83px;\n",
        "            color: #fff;\n",
        "            font-size: 10px;\n",
        "        }\n",
        "\n",
        "        /* アイコンネーム（左） */\n",
        "        .icon-name-left {\n",
        "            left: 0;\n",
        "        }\n",
        "\n",
        "        /* アイコンネーム（右） */\n",
        "        .icon-name-right {\n",
        "            right: 0;\n",
        "        }\n",
        "\n",
        "        /* 吹き出し */\n",
        "        .sb-side {\n",
        "            position: relative;\n",
        "            float: left;\n",
        "            margin: 0 105px 40px 105px;\n",
        "        }\n",
        "\n",
        "        .sb-side-right {\n",
        "            float: right;\n",
        "        }\n",
        "\n",
        "        /* 吹き出し内のテキスト */\n",
        "        .sb-txt {\n",
        "            position: relative;\n",
        "            border: 2px solid #eee;\n",
        "            border-radius: 6px;\n",
        "            background: #eee;\n",
        "            color: #333;\n",
        "            font-size: 15px;\n",
        "            line-height: 1.7;\n",
        "            padding: 18px;\n",
        "        }\n",
        "\n",
        "        .sb-txt>p:last-of-type {\n",
        "            padding-bottom: 0;\n",
        "            margin-bottom: 0;\n",
        "        }\n",
        "\n",
        "        /* 吹き出しの三角 */\n",
        "        .sb-txt:before {\n",
        "            content: \"\";\n",
        "            position: absolute;\n",
        "            border-style: solid;\n",
        "            top: 16px;\n",
        "            z-index: 3;\n",
        "        }\n",
        "\n",
        "        .sb-txt:after {\n",
        "            content: \"\";\n",
        "            position: absolute;\n",
        "            border-style: solid;\n",
        "            top: 15px;\n",
        "            z-index: 2;\n",
        "        }\n",
        "\n",
        "        /* 吹き出しの三角（左） */\n",
        "        .sb-txt-left:before {\n",
        "            left: -7px;\n",
        "            border-width: 7px 10px 7px 0;\n",
        "            border-color: transparent #eee transparent transparent;\n",
        "        }\n",
        "\n",
        "        .sb-txt-left:after {\n",
        "            left: -10px;\n",
        "            border-width: 8px 10px 8px 0;\n",
        "            border-color: transparent #eee transparent transparent;\n",
        "        }\n",
        "\n",
        "        /* 吹き出しの三角（右） */\n",
        "        .sb-txt-right:before {\n",
        "            right: -7px;\n",
        "            border-width: 7px 0 7px 10px;\n",
        "            border-color: transparent transparent transparent #eee;\n",
        "        }\n",
        "\n",
        "        .sb-txt-right:after {\n",
        "            right: -10px;\n",
        "            border-width: 8px 0 8px 10px;\n",
        "            border-color: transparent transparent transparent #eee;\n",
        "        }\n",
        "\n",
        "        /* 767px（iPad）以下 */\n",
        "\n",
        "        @media (max-width: 767px) {\n",
        "\n",
        "            .icon-img {\n",
        "                width: 60px;\n",
        "                height: 60px;\n",
        "            }\n",
        "\n",
        "            /* アイコンネーム */\n",
        "            .icon-name {\n",
        "                width: 60px;\n",
        "                top: 62px;\n",
        "                font-size: 9px;\n",
        "            }\n",
        "\n",
        "            /* 吹き出し（左） */\n",
        "            .sb-side-left {\n",
        "                margin: 0 0 30px 78px;\n",
        "                /* 吹き出し（左）の上下左右の余白を狭く */\n",
        "            }\n",
        "\n",
        "            /* 吹き出し（右） */\n",
        "            .sb-side-right {\n",
        "                margin: 0 78px 30px 0;\n",
        "                /* 吹き出し（右）の上下左右の余白を狭く */\n",
        "            }\n",
        "\n",
        "            /* 吹き出し内のテキスト */\n",
        "            .sb-txt {\n",
        "                padding: 12px;\n",
        "                /* 吹き出し内の上下左右の余白を-6px */\n",
        "            }\n",
        "        }\n",
        "    </style>\n",
        "      <script>\n",
        "        var inputPane = document.getElementById('input');\n",
        "        inputPane.addEventListener('keydown', (e) => {\n",
        "          if(e.keyCode == 13) {\n",
        "            google.colab.kernel.invokeFunction('notebook.Convert', [inputPane.value], {});\n",
        "            inputPane.value=''\n",
        "          }\n",
        "        });\n",
        "      </script>\n",
        "    <div id='output' style='background: #66d;'></div>\n",
        "    <div style='text-align: right'><textarea id='input' style='width: 100%; background: #eee;'></textarea></div>\n",
        "      '''))\n",
        "\n",
        "  def convert(your_text):\n",
        "    display_you(your_text)\n",
        "    bot_text = chat(your_text, **kw)\n",
        "    time.sleep(random.randint(0,4))\n",
        "    display_bot(bot_text)\n",
        "\n",
        "  output.register_callback('notebook.Convert', convert)\n",
        "  if start is not None:\n",
        "    display_bot(start)\n"
      ],
      "execution_count": null,
      "outputs": []
    },
    {
      "cell_type": "code",
      "metadata": {
        "colab": {
          "base_uri": "https://localhost:8080/",
          "height": 661
        },
        "id": "Wc7B_LPWDtkw",
        "outputId": "7ebfa3ff-8c18-4a01-ed3b-57da420b17d9"
      },
      "source": [
        "run_chat(your_name='ナミ')"
      ],
      "execution_count": null,
      "outputs": [
        {
          "output_type": "display_data",
          "data": {
            "text/html": [
              "\n",
              "      <style>\n",
              "        /* 全体 */\n",
              "        .sb-box {\n",
              "            position: relative;\n",
              "            overflow: hidden;\n",
              "        }\n",
              "\n",
              "        /* アイコン画像 */\n",
              "        .icon-img {\n",
              "            position: absolute;\n",
              "            overflow: hidden;\n",
              "            top: 0;\n",
              "            width: 80px;\n",
              "            height: 80px;\n",
              "        }\n",
              "\n",
              "        /* アイコン画像（左） */\n",
              "        .icon-img-left {\n",
              "            left: 0;\n",
              "        }\n",
              "\n",
              "        /* アイコン画像（右） */\n",
              "        .icon-img-right {\n",
              "            right: 0;\n",
              "        }\n",
              "\n",
              "        /* アイコン画像 */\n",
              "        .icon-img img {\n",
              "            border-radius: 50%;\n",
              "            border: 2px solid #eee;\n",
              "        }\n",
              "\n",
              "        /* アイコンネーム */\n",
              "        .icon-name {\n",
              "            position: absolute;\n",
              "            width: 80px;\n",
              "            text-align: center;\n",
              "            top: 83px;\n",
              "            color: #fff;\n",
              "            font-size: 10px;\n",
              "        }\n",
              "\n",
              "        /* アイコンネーム（左） */\n",
              "        .icon-name-left {\n",
              "            left: 0;\n",
              "        }\n",
              "\n",
              "        /* アイコンネーム（右） */\n",
              "        .icon-name-right {\n",
              "            right: 0;\n",
              "        }\n",
              "\n",
              "        /* 吹き出し */\n",
              "        .sb-side {\n",
              "            position: relative;\n",
              "            float: left;\n",
              "            margin: 0 105px 40px 105px;\n",
              "        }\n",
              "\n",
              "        .sb-side-right {\n",
              "            float: right;\n",
              "        }\n",
              "\n",
              "        /* 吹き出し内のテキスト */\n",
              "        .sb-txt {\n",
              "            position: relative;\n",
              "            border: 2px solid #eee;\n",
              "            border-radius: 6px;\n",
              "            background: #eee;\n",
              "            color: #333;\n",
              "            font-size: 15px;\n",
              "            line-height: 1.7;\n",
              "            padding: 18px;\n",
              "        }\n",
              "\n",
              "        .sb-txt>p:last-of-type {\n",
              "            padding-bottom: 0;\n",
              "            margin-bottom: 0;\n",
              "        }\n",
              "\n",
              "        /* 吹き出しの三角 */\n",
              "        .sb-txt:before {\n",
              "            content: \"\";\n",
              "            position: absolute;\n",
              "            border-style: solid;\n",
              "            top: 16px;\n",
              "            z-index: 3;\n",
              "        }\n",
              "\n",
              "        .sb-txt:after {\n",
              "            content: \"\";\n",
              "            position: absolute;\n",
              "            border-style: solid;\n",
              "            top: 15px;\n",
              "            z-index: 2;\n",
              "        }\n",
              "\n",
              "        /* 吹き出しの三角（左） */\n",
              "        .sb-txt-left:before {\n",
              "            left: -7px;\n",
              "            border-width: 7px 10px 7px 0;\n",
              "            border-color: transparent #eee transparent transparent;\n",
              "        }\n",
              "\n",
              "        .sb-txt-left:after {\n",
              "            left: -10px;\n",
              "            border-width: 8px 10px 8px 0;\n",
              "            border-color: transparent #eee transparent transparent;\n",
              "        }\n",
              "\n",
              "        /* 吹き出しの三角（右） */\n",
              "        .sb-txt-right:before {\n",
              "            right: -7px;\n",
              "            border-width: 7px 0 7px 10px;\n",
              "            border-color: transparent transparent transparent #eee;\n",
              "        }\n",
              "\n",
              "        .sb-txt-right:after {\n",
              "            right: -10px;\n",
              "            border-width: 8px 0 8px 10px;\n",
              "            border-color: transparent transparent transparent #eee;\n",
              "        }\n",
              "\n",
              "        /* 767px（iPad）以下 */\n",
              "\n",
              "        @media (max-width: 767px) {\n",
              "\n",
              "            .icon-img {\n",
              "                width: 60px;\n",
              "                height: 60px;\n",
              "            }\n",
              "\n",
              "            /* アイコンネーム */\n",
              "            .icon-name {\n",
              "                width: 60px;\n",
              "                top: 62px;\n",
              "                font-size: 9px;\n",
              "            }\n",
              "\n",
              "            /* 吹き出し（左） */\n",
              "            .sb-side-left {\n",
              "                margin: 0 0 30px 78px;\n",
              "                /* 吹き出し（左）の上下左右の余白を狭く */\n",
              "            }\n",
              "\n",
              "            /* 吹き出し（右） */\n",
              "            .sb-side-right {\n",
              "                margin: 0 78px 30px 0;\n",
              "                /* 吹き出し（右）の上下左右の余白を狭く */\n",
              "            }\n",
              "\n",
              "            /* 吹き出し内のテキスト */\n",
              "            .sb-txt {\n",
              "                padding: 12px;\n",
              "                /* 吹き出し内の上下左右の余白を-6px */\n",
              "            }\n",
              "        }\n",
              "    </style>\n",
              "      <script>\n",
              "        var inputPane = document.getElementById('input');\n",
              "        inputPane.addEventListener('keydown', (e) => {\n",
              "          if(e.keyCode == 13) {\n",
              "            google.colab.kernel.invokeFunction('notebook.Convert', [inputPane.value], {});\n",
              "            inputPane.value=''\n",
              "          }\n",
              "        });\n",
              "      </script>\n",
              "    <div id='output' style='background: #66d;'></div>\n",
              "    <div style='text-align: right'><textarea id='input' style='width: 100%; background: #eee;'></textarea></div>\n",
              "      "
            ],
            "text/plain": [
              "<IPython.core.display.HTML object>"
            ]
          },
          "metadata": {}
        },
        {
          "output_type": "display_data",
          "data": {
            "application/javascript": [
              "window[\"079b0e92-4061-11ec-a67f-0242ac1c0002\"] = google.colab.output.getActiveOutputArea();\n",
              "//# sourceURL=js_c8218a8a45"
            ],
            "text/plain": [
              "<IPython.core.display.Javascript object>"
            ]
          },
          "metadata": {}
        },
        {
          "output_type": "display_data",
          "data": {
            "application/javascript": [
              "window[\"079ba2d0-4061-11ec-a67f-0242ac1c0002\"] = document.querySelector(\"#output\");\n",
              "//# sourceURL=js_807d98d011"
            ],
            "text/plain": [
              "<IPython.core.display.Javascript object>"
            ]
          },
          "metadata": {}
        },
        {
          "output_type": "display_data",
          "data": {
            "application/javascript": [
              "window[\"079c74e4-4061-11ec-a67f-0242ac1c0002\"] = google.colab.output.setActiveOutputArea(window[\"079ba2d0-4061-11ec-a67f-0242ac1c0002\"]);\n",
              "//# sourceURL=js_deacb9f099"
            ],
            "text/plain": [
              "<IPython.core.display.Javascript object>"
            ]
          },
          "metadata": {}
        },
        {
          "output_type": "display_data",
          "data": {
            "text/html": [
              "\n",
              "      <div class=\"sb-box\">\n",
              "        <div class=\"icon-img icon-img-left\">\n",
              "            <img src=\"https://4.bp.blogspot.com/-7LcdiJjflkE/XASwYu6DyuI/AAAAAAABQZs/K0EQCKmvDmsVbEES7sAb6_xJhJyQXXLFgCLcBGAs/s800/bluebird_robot_bot.png\" width=\"60px\">\n",
              "        </div><!-- /.icon-img icon-img-left -->\n",
              "        <div class=\"icon-name icon-name-left\">ボット</div>\n",
              "        <div class=\"sb-side sb-side-left\">\n",
              "            <div class=\"sb-txt sb-txt-left\">\n",
              "              占いするよ\n",
              "            </div><!-- /.sb-txt sb-txt-left -->\n",
              "        </div><!-- /.sb-side sb-side-left -->\n",
              "    </div><!-- /.sb-box -->\n",
              "      "
            ],
            "text/plain": [
              "<IPython.core.display.HTML object>"
            ]
          },
          "metadata": {}
        },
        {
          "output_type": "display_data",
          "data": {
            "application/javascript": [
              "window[\"079e5958-4061-11ec-a67f-0242ac1c0002\"] = google.colab.output.setActiveOutputArea(window[\"079b0e92-4061-11ec-a67f-0242ac1c0002\"]);\n",
              "//# sourceURL=js_3135ec629a"
            ],
            "text/plain": [
              "<IPython.core.display.Javascript object>"
            ]
          },
          "metadata": {}
        },
        {
          "output_type": "display_data",
          "data": {
            "application/javascript": [
              "window[\"0caddcac-4061-11ec-a67f-0242ac1c0002\"] = google.colab.output.getActiveOutputArea();\n",
              "//# sourceURL=js_858d10328f"
            ],
            "text/plain": [
              "<IPython.core.display.Javascript object>"
            ]
          },
          "metadata": {}
        },
        {
          "output_type": "display_data",
          "data": {
            "application/javascript": [
              "window[\"0cae6e92-4061-11ec-a67f-0242ac1c0002\"] = document.querySelector(\"#output\");\n",
              "//# sourceURL=js_816cb66af4"
            ],
            "text/plain": [
              "<IPython.core.display.Javascript object>"
            ]
          },
          "metadata": {}
        },
        {
          "output_type": "display_data",
          "data": {
            "application/javascript": [
              "window[\"0caf0ff0-4061-11ec-a67f-0242ac1c0002\"] = google.colab.output.setActiveOutputArea(window[\"0cae6e92-4061-11ec-a67f-0242ac1c0002\"]);\n",
              "//# sourceURL=js_611df9f600"
            ],
            "text/plain": [
              "<IPython.core.display.Javascript object>"
            ]
          },
          "metadata": {}
        },
        {
          "output_type": "display_data",
          "data": {
            "text/html": [
              "\n",
              "      <div class=\"sb-box\">\n",
              "        <div class=\"icon-img icon-img-right\">\n",
              "            <img src=\"https://2.bp.blogspot.com/-WplygmIuX28/VZ-PPsDMOmI/AAAAAAAAvDU/OKG7taU7wXo/s800/girl_think.png\" width=\"60px\">\n",
              "        </div><!-- /.icon-img icon-img-right -->\n",
              "        <div class=\"icon-name icon-name-right\">ナミ</div>\n",
              "        <div class=\"sb-side sb-side-right\">\n",
              "            <div class=\"sb-txt sb-txt-right\">\n",
              "              よろしく\n",
              "            </div><!-- /.sb-txt sb-txt-right -->\n",
              "        </div><!-- /.sb-side sb-side-right -->\n",
              "      </div><!-- /.sb-box -->\n",
              "      "
            ],
            "text/plain": [
              "<IPython.core.display.HTML object>"
            ]
          },
          "metadata": {}
        },
        {
          "output_type": "display_data",
          "data": {
            "application/javascript": [
              "window[\"0cb06288-4061-11ec-a67f-0242ac1c0002\"] = google.colab.output.setActiveOutputArea(window[\"0caddcac-4061-11ec-a67f-0242ac1c0002\"]);\n",
              "//# sourceURL=js_43dd053089"
            ],
            "text/plain": [
              "<IPython.core.display.Javascript object>"
            ]
          },
          "metadata": {}
        },
        {
          "output_type": "display_data",
          "data": {
            "application/javascript": [
              "window[\"0f141df8-4061-11ec-a67f-0242ac1c0002\"] = google.colab.output.getActiveOutputArea();\n",
              "//# sourceURL=js_153b677553"
            ],
            "text/plain": [
              "<IPython.core.display.Javascript object>"
            ]
          },
          "metadata": {}
        },
        {
          "output_type": "display_data",
          "data": {
            "application/javascript": [
              "window[\"0f147b22-4061-11ec-a67f-0242ac1c0002\"] = document.querySelector(\"#output\");\n",
              "//# sourceURL=js_53b9892d6d"
            ],
            "text/plain": [
              "<IPython.core.display.Javascript object>"
            ]
          },
          "metadata": {}
        },
        {
          "output_type": "display_data",
          "data": {
            "application/javascript": [
              "window[\"0f14fa2a-4061-11ec-a67f-0242ac1c0002\"] = google.colab.output.setActiveOutputArea(window[\"0f147b22-4061-11ec-a67f-0242ac1c0002\"]);\n",
              "//# sourceURL=js_b3daa62681"
            ],
            "text/plain": [
              "<IPython.core.display.Javascript object>"
            ]
          },
          "metadata": {}
        },
        {
          "output_type": "display_data",
          "data": {
            "text/html": [
              "\n",
              "      <div class=\"sb-box\">\n",
              "        <div class=\"icon-img icon-img-left\">\n",
              "            <img src=\"https://4.bp.blogspot.com/-7LcdiJjflkE/XASwYu6DyuI/AAAAAAABQZs/K0EQCKmvDmsVbEES7sAb6_xJhJyQXXLFgCLcBGAs/s800/bluebird_robot_bot.png\" width=\"60px\">\n",
              "        </div><!-- /.icon-img icon-img-left -->\n",
              "        <div class=\"icon-name icon-name-left\">ボット</div>\n",
              "        <div class=\"sb-side sb-side-left\">\n",
              "            <div class=\"sb-txt sb-txt-left\">\n",
              "              ほ\n",
              "            </div><!-- /.sb-txt sb-txt-left -->\n",
              "        </div><!-- /.sb-side sb-side-left -->\n",
              "    </div><!-- /.sb-box -->\n",
              "      "
            ],
            "text/plain": [
              "<IPython.core.display.HTML object>"
            ]
          },
          "metadata": {}
        },
        {
          "output_type": "display_data",
          "data": {
            "application/javascript": [
              "window[\"0f16489e-4061-11ec-a67f-0242ac1c0002\"] = google.colab.output.setActiveOutputArea(window[\"0f141df8-4061-11ec-a67f-0242ac1c0002\"]);\n",
              "//# sourceURL=js_a0312ba9c9"
            ],
            "text/plain": [
              "<IPython.core.display.Javascript object>"
            ]
          },
          "metadata": {}
        },
        {
          "output_type": "display_data",
          "data": {
            "application/javascript": [
              "window[\"146d28da-4061-11ec-a67f-0242ac1c0002\"] = google.colab.output.getActiveOutputArea();\n",
              "//# sourceURL=js_22dc0ed533"
            ],
            "text/plain": [
              "<IPython.core.display.Javascript object>"
            ]
          },
          "metadata": {}
        },
        {
          "output_type": "display_data",
          "data": {
            "application/javascript": [
              "window[\"146d8e6a-4061-11ec-a67f-0242ac1c0002\"] = document.querySelector(\"#output\");\n",
              "//# sourceURL=js_89bcdba485"
            ],
            "text/plain": [
              "<IPython.core.display.Javascript object>"
            ]
          },
          "metadata": {}
        },
        {
          "output_type": "display_data",
          "data": {
            "application/javascript": [
              "window[\"146e8338-4061-11ec-a67f-0242ac1c0002\"] = google.colab.output.setActiveOutputArea(window[\"146d8e6a-4061-11ec-a67f-0242ac1c0002\"]);\n",
              "//# sourceURL=js_26a9fcf6b0"
            ],
            "text/plain": [
              "<IPython.core.display.Javascript object>"
            ]
          },
          "metadata": {}
        },
        {
          "output_type": "display_data",
          "data": {
            "text/html": [
              "\n",
              "      <div class=\"sb-box\">\n",
              "        <div class=\"icon-img icon-img-right\">\n",
              "            <img src=\"https://2.bp.blogspot.com/-WplygmIuX28/VZ-PPsDMOmI/AAAAAAAAvDU/OKG7taU7wXo/s800/girl_think.png\" width=\"60px\">\n",
              "        </div><!-- /.icon-img icon-img-right -->\n",
              "        <div class=\"icon-name icon-name-right\">ナミ</div>\n",
              "        <div class=\"sb-side sb-side-right\">\n",
              "            <div class=\"sb-txt sb-txt-right\">\n",
              "              \n",
              "こんにちは\n",
              "            </div><!-- /.sb-txt sb-txt-right -->\n",
              "        </div><!-- /.sb-side sb-side-right -->\n",
              "      </div><!-- /.sb-box -->\n",
              "      "
            ],
            "text/plain": [
              "<IPython.core.display.HTML object>"
            ]
          },
          "metadata": {}
        },
        {
          "output_type": "display_data",
          "data": {
            "application/javascript": [
              "window[\"146f8512-4061-11ec-a67f-0242ac1c0002\"] = google.colab.output.setActiveOutputArea(window[\"146d28da-4061-11ec-a67f-0242ac1c0002\"]);\n",
              "//# sourceURL=js_f3217491f0"
            ],
            "text/plain": [
              "<IPython.core.display.Javascript object>"
            ]
          },
          "metadata": {}
        },
        {
          "output_type": "display_data",
          "data": {
            "application/javascript": [
              "window[\"14700532-4061-11ec-a67f-0242ac1c0002\"] = google.colab.output.getActiveOutputArea();\n",
              "//# sourceURL=js_4d38a02391"
            ],
            "text/plain": [
              "<IPython.core.display.Javascript object>"
            ]
          },
          "metadata": {}
        },
        {
          "output_type": "display_data",
          "data": {
            "application/javascript": [
              "window[\"147087c8-4061-11ec-a67f-0242ac1c0002\"] = document.querySelector(\"#output\");\n",
              "//# sourceURL=js_1168c5536e"
            ],
            "text/plain": [
              "<IPython.core.display.Javascript object>"
            ]
          },
          "metadata": {}
        },
        {
          "output_type": "display_data",
          "data": {
            "application/javascript": [
              "window[\"14710158-4061-11ec-a67f-0242ac1c0002\"] = google.colab.output.setActiveOutputArea(window[\"147087c8-4061-11ec-a67f-0242ac1c0002\"]);\n",
              "//# sourceURL=js_18f677fab3"
            ],
            "text/plain": [
              "<IPython.core.display.Javascript object>"
            ]
          },
          "metadata": {}
        },
        {
          "output_type": "display_data",
          "data": {
            "text/html": [
              "\n",
              "      <div class=\"sb-box\">\n",
              "        <div class=\"icon-img icon-img-left\">\n",
              "            <img src=\"https://4.bp.blogspot.com/-7LcdiJjflkE/XASwYu6DyuI/AAAAAAABQZs/K0EQCKmvDmsVbEES7sAb6_xJhJyQXXLFgCLcBGAs/s800/bluebird_robot_bot.png\" width=\"60px\">\n",
              "        </div><!-- /.icon-img icon-img-left -->\n",
              "        <div class=\"icon-name icon-name-left\">ボット</div>\n",
              "        <div class=\"sb-side sb-side-left\">\n",
              "            <div class=\"sb-txt sb-txt-left\">\n",
              "              ほほ\n",
              "            </div><!-- /.sb-txt sb-txt-left -->\n",
              "        </div><!-- /.sb-side sb-side-left -->\n",
              "    </div><!-- /.sb-box -->\n",
              "      "
            ],
            "text/plain": [
              "<IPython.core.display.HTML object>"
            ]
          },
          "metadata": {}
        },
        {
          "output_type": "display_data",
          "data": {
            "application/javascript": [
              "window[\"1471fc3e-4061-11ec-a67f-0242ac1c0002\"] = google.colab.output.setActiveOutputArea(window[\"14700532-4061-11ec-a67f-0242ac1c0002\"]);\n",
              "//# sourceURL=js_612990e0dd"
            ],
            "text/plain": [
              "<IPython.core.display.Javascript object>"
            ]
          },
          "metadata": {}
        },
        {
          "output_type": "display_data",
          "data": {
            "application/javascript": [
              "window[\"1c19e4a6-4061-11ec-a67f-0242ac1c0002\"] = google.colab.output.getActiveOutputArea();\n",
              "//# sourceURL=js_b9a251b883"
            ],
            "text/plain": [
              "<IPython.core.display.Javascript object>"
            ]
          },
          "metadata": {}
        },
        {
          "output_type": "display_data",
          "data": {
            "application/javascript": [
              "window[\"1c1a4e1e-4061-11ec-a67f-0242ac1c0002\"] = document.querySelector(\"#output\");\n",
              "//# sourceURL=js_c171edf13d"
            ],
            "text/plain": [
              "<IPython.core.display.Javascript object>"
            ]
          },
          "metadata": {}
        },
        {
          "output_type": "display_data",
          "data": {
            "application/javascript": [
              "window[\"1c1a92d4-4061-11ec-a67f-0242ac1c0002\"] = google.colab.output.setActiveOutputArea(window[\"1c1a4e1e-4061-11ec-a67f-0242ac1c0002\"]);\n",
              "//# sourceURL=js_f0d0bd2c5e"
            ],
            "text/plain": [
              "<IPython.core.display.Javascript object>"
            ]
          },
          "metadata": {}
        },
        {
          "output_type": "display_data",
          "data": {
            "text/html": [
              "\n",
              "      <div class=\"sb-box\">\n",
              "        <div class=\"icon-img icon-img-right\">\n",
              "            <img src=\"https://2.bp.blogspot.com/-WplygmIuX28/VZ-PPsDMOmI/AAAAAAAAvDU/OKG7taU7wXo/s800/girl_think.png\" width=\"60px\">\n",
              "        </div><!-- /.icon-img icon-img-right -->\n",
              "        <div class=\"icon-name icon-name-right\">ナミ</div>\n",
              "        <div class=\"sb-side sb-side-right\">\n",
              "            <div class=\"sb-txt sb-txt-right\">\n",
              "              占ってください\n",
              "\n",
              "            </div><!-- /.sb-txt sb-txt-right -->\n",
              "        </div><!-- /.sb-side sb-side-right -->\n",
              "      </div><!-- /.sb-box -->\n",
              "      "
            ],
            "text/plain": [
              "<IPython.core.display.HTML object>"
            ]
          },
          "metadata": {}
        },
        {
          "output_type": "display_data",
          "data": {
            "application/javascript": [
              "window[\"1c1b382e-4061-11ec-a67f-0242ac1c0002\"] = google.colab.output.setActiveOutputArea(window[\"1c19e4a6-4061-11ec-a67f-0242ac1c0002\"]);\n",
              "//# sourceURL=js_b10f4d510c"
            ],
            "text/plain": [
              "<IPython.core.display.Javascript object>"
            ]
          },
          "metadata": {}
        },
        {
          "output_type": "display_data",
          "data": {
            "application/javascript": [
              "window[\"1cb45400-4061-11ec-a67f-0242ac1c0002\"] = google.colab.output.getActiveOutputArea();\n",
              "//# sourceURL=js_d95ad9f2b1"
            ],
            "text/plain": [
              "<IPython.core.display.Javascript object>"
            ]
          },
          "metadata": {}
        },
        {
          "output_type": "display_data",
          "data": {
            "application/javascript": [
              "window[\"1cb4ba4e-4061-11ec-a67f-0242ac1c0002\"] = document.querySelector(\"#output\");\n",
              "//# sourceURL=js_3cc4a1bec1"
            ],
            "text/plain": [
              "<IPython.core.display.Javascript object>"
            ]
          },
          "metadata": {}
        },
        {
          "output_type": "display_data",
          "data": {
            "application/javascript": [
              "window[\"1cb51cdc-4061-11ec-a67f-0242ac1c0002\"] = google.colab.output.setActiveOutputArea(window[\"1cb4ba4e-4061-11ec-a67f-0242ac1c0002\"]);\n",
              "//# sourceURL=js_e8c4f12056"
            ],
            "text/plain": [
              "<IPython.core.display.Javascript object>"
            ]
          },
          "metadata": {}
        },
        {
          "output_type": "display_data",
          "data": {
            "text/html": [
              "\n",
              "      <div class=\"sb-box\">\n",
              "        <div class=\"icon-img icon-img-left\">\n",
              "            <img src=\"https://4.bp.blogspot.com/-7LcdiJjflkE/XASwYu6DyuI/AAAAAAABQZs/K0EQCKmvDmsVbEES7sAb6_xJhJyQXXLFgCLcBGAs/s800/bluebird_robot_bot.png\" width=\"60px\">\n",
              "        </div><!-- /.icon-img icon-img-left -->\n",
              "        <div class=\"icon-name icon-name-left\">ボット</div>\n",
              "        <div class=\"sb-side sb-side-left\">\n",
              "            <div class=\"sb-txt sb-txt-left\">\n",
              "              ほほほ\n",
              "            </div><!-- /.sb-txt sb-txt-left -->\n",
              "        </div><!-- /.sb-side sb-side-left -->\n",
              "    </div><!-- /.sb-box -->\n",
              "      "
            ],
            "text/plain": [
              "<IPython.core.display.HTML object>"
            ]
          },
          "metadata": {}
        },
        {
          "output_type": "display_data",
          "data": {
            "application/javascript": [
              "window[\"1cb5cd8a-4061-11ec-a67f-0242ac1c0002\"] = google.colab.output.setActiveOutputArea(window[\"1cb45400-4061-11ec-a67f-0242ac1c0002\"]);\n",
              "//# sourceURL=js_79b48aa02b"
            ],
            "text/plain": [
              "<IPython.core.display.Javascript object>"
            ]
          },
          "metadata": {}
        }
      ]
    },
    {
      "cell_type": "markdown",
      "metadata": {
        "id": "N_LUGWbuXOXo"
      },
      "source": [
        "# カスタマイズの仕方"
      ]
    },
    {
      "cell_type": "code",
      "metadata": {
        "colab": {
          "base_uri": "https://localhost:8080/",
          "height": 327
        },
        "id": "m88qBx_3VtTN",
        "outputId": "86df571d-5a4b-46d9-e18f-b469caccd93f"
      },
      "source": [
        "n = 0 # 状態 (関数の外側)\n",
        "\n",
        "def mychat(input_text, **kw):  #チャット用の関数\n",
        "  global n\n",
        "  n += 1\n",
        "  output_text = 'なんと' * n\n",
        "  return output_text\n",
        "\n",
        "run_chat(chat=mychat) # 関数名を渡します"
      ],
      "execution_count": null,
      "outputs": [
        {
          "output_type": "display_data",
          "data": {
            "text/html": [
              "\n",
              "      <style>\n",
              "        /* 全体 */\n",
              "        .sb-box {\n",
              "            position: relative;\n",
              "            overflow: hidden;\n",
              "        }\n",
              "\n",
              "        /* アイコン画像 */\n",
              "        .icon-img {\n",
              "            position: absolute;\n",
              "            overflow: hidden;\n",
              "            top: 0;\n",
              "            width: 80px;\n",
              "            height: 80px;\n",
              "        }\n",
              "\n",
              "        /* アイコン画像（左） */\n",
              "        .icon-img-left {\n",
              "            left: 0;\n",
              "        }\n",
              "\n",
              "        /* アイコン画像（右） */\n",
              "        .icon-img-right {\n",
              "            right: 0;\n",
              "        }\n",
              "\n",
              "        /* アイコン画像 */\n",
              "        .icon-img img {\n",
              "            border-radius: 50%;\n",
              "            border: 2px solid #eee;\n",
              "        }\n",
              "\n",
              "        /* アイコンネーム */\n",
              "        .icon-name {\n",
              "            position: absolute;\n",
              "            width: 80px;\n",
              "            text-align: center;\n",
              "            top: 83px;\n",
              "            color: #fff;\n",
              "            font-size: 10px;\n",
              "        }\n",
              "\n",
              "        /* アイコンネーム（左） */\n",
              "        .icon-name-left {\n",
              "            left: 0;\n",
              "        }\n",
              "\n",
              "        /* アイコンネーム（右） */\n",
              "        .icon-name-right {\n",
              "            right: 0;\n",
              "        }\n",
              "\n",
              "        /* 吹き出し */\n",
              "        .sb-side {\n",
              "            position: relative;\n",
              "            float: left;\n",
              "            margin: 0 105px 40px 105px;\n",
              "        }\n",
              "\n",
              "        .sb-side-right {\n",
              "            float: right;\n",
              "        }\n",
              "\n",
              "        /* 吹き出し内のテキスト */\n",
              "        .sb-txt {\n",
              "            position: relative;\n",
              "            border: 2px solid #eee;\n",
              "            border-radius: 6px;\n",
              "            background: #eee;\n",
              "            color: #333;\n",
              "            font-size: 15px;\n",
              "            line-height: 1.7;\n",
              "            padding: 18px;\n",
              "        }\n",
              "\n",
              "        .sb-txt>p:last-of-type {\n",
              "            padding-bottom: 0;\n",
              "            margin-bottom: 0;\n",
              "        }\n",
              "\n",
              "        /* 吹き出しの三角 */\n",
              "        .sb-txt:before {\n",
              "            content: \"\";\n",
              "            position: absolute;\n",
              "            border-style: solid;\n",
              "            top: 16px;\n",
              "            z-index: 3;\n",
              "        }\n",
              "\n",
              "        .sb-txt:after {\n",
              "            content: \"\";\n",
              "            position: absolute;\n",
              "            border-style: solid;\n",
              "            top: 15px;\n",
              "            z-index: 2;\n",
              "        }\n",
              "\n",
              "        /* 吹き出しの三角（左） */\n",
              "        .sb-txt-left:before {\n",
              "            left: -7px;\n",
              "            border-width: 7px 10px 7px 0;\n",
              "            border-color: transparent #eee transparent transparent;\n",
              "        }\n",
              "\n",
              "        .sb-txt-left:after {\n",
              "            left: -10px;\n",
              "            border-width: 8px 10px 8px 0;\n",
              "            border-color: transparent #eee transparent transparent;\n",
              "        }\n",
              "\n",
              "        /* 吹き出しの三角（右） */\n",
              "        .sb-txt-right:before {\n",
              "            right: -7px;\n",
              "            border-width: 7px 0 7px 10px;\n",
              "            border-color: transparent transparent transparent #eee;\n",
              "        }\n",
              "\n",
              "        .sb-txt-right:after {\n",
              "            right: -10px;\n",
              "            border-width: 8px 0 8px 10px;\n",
              "            border-color: transparent transparent transparent #eee;\n",
              "        }\n",
              "\n",
              "        /* 767px（iPad）以下 */\n",
              "\n",
              "        @media (max-width: 767px) {\n",
              "\n",
              "            .icon-img {\n",
              "                width: 60px;\n",
              "                height: 60px;\n",
              "            }\n",
              "\n",
              "            /* アイコンネーム */\n",
              "            .icon-name {\n",
              "                width: 60px;\n",
              "                top: 62px;\n",
              "                font-size: 9px;\n",
              "            }\n",
              "\n",
              "            /* 吹き出し（左） */\n",
              "            .sb-side-left {\n",
              "                margin: 0 0 30px 78px;\n",
              "                /* 吹き出し（左）の上下左右の余白を狭く */\n",
              "            }\n",
              "\n",
              "            /* 吹き出し（右） */\n",
              "            .sb-side-right {\n",
              "                margin: 0 78px 30px 0;\n",
              "                /* 吹き出し（右）の上下左右の余白を狭く */\n",
              "            }\n",
              "\n",
              "            /* 吹き出し内のテキスト */\n",
              "            .sb-txt {\n",
              "                padding: 12px;\n",
              "                /* 吹き出し内の上下左右の余白を-6px */\n",
              "            }\n",
              "        }\n",
              "    </style>\n",
              "      <script>\n",
              "        var inputPane = document.getElementById('input');\n",
              "        inputPane.addEventListener('keydown', (e) => {\n",
              "          if(e.keyCode == 13) {\n",
              "            google.colab.kernel.invokeFunction('notebook.Convert', [inputPane.value], {});\n",
              "            inputPane.value=''\n",
              "          }\n",
              "        });\n",
              "      </script>\n",
              "    <div id='output' style='background: #66d;'></div>\n",
              "    <div style='text-align: right'><textarea id='input' style='width: 100%; background: #eee;'></textarea></div>\n",
              "      "
            ],
            "text/plain": [
              "<IPython.core.display.HTML object>"
            ]
          },
          "metadata": {}
        },
        {
          "output_type": "display_data",
          "data": {
            "application/javascript": [
              "window[\"11c6a92a-4062-11ec-a67f-0242ac1c0002\"] = google.colab.output.getActiveOutputArea();\n",
              "//# sourceURL=js_6790b13a3f"
            ],
            "text/plain": [
              "<IPython.core.display.Javascript object>"
            ]
          },
          "metadata": {}
        },
        {
          "output_type": "display_data",
          "data": {
            "application/javascript": [
              "window[\"11c7e38a-4062-11ec-a67f-0242ac1c0002\"] = document.querySelector(\"#output\");\n",
              "//# sourceURL=js_e436e05014"
            ],
            "text/plain": [
              "<IPython.core.display.Javascript object>"
            ]
          },
          "metadata": {}
        },
        {
          "output_type": "display_data",
          "data": {
            "application/javascript": [
              "window[\"11c8ab8a-4062-11ec-a67f-0242ac1c0002\"] = google.colab.output.setActiveOutputArea(window[\"11c7e38a-4062-11ec-a67f-0242ac1c0002\"]);\n",
              "//# sourceURL=js_00fedf75f1"
            ],
            "text/plain": [
              "<IPython.core.display.Javascript object>"
            ]
          },
          "metadata": {}
        },
        {
          "output_type": "display_data",
          "data": {
            "text/html": [
              "\n",
              "      <div class=\"sb-box\">\n",
              "        <div class=\"icon-img icon-img-left\">\n",
              "            <img src=\"https://2.bp.blogspot.com/-mRJKwyORJkQ/Wn1ZTOBrszI/AAAAAAABKKs/Bg5yjLL9RYwmfUM0pEkBA3Ky3ui0IOZWQCLcBGAs/s800/animal_smile_inu.png\" width=\"60px\">\n",
              "        </div><!-- /.icon-img icon-img-left -->\n",
              "        <div class=\"icon-name icon-name-left\">ボット</div>\n",
              "        <div class=\"sb-side sb-side-left\">\n",
              "            <div class=\"sb-txt sb-txt-left\">\n",
              "              占いするよ\n",
              "            </div><!-- /.sb-txt sb-txt-left -->\n",
              "        </div><!-- /.sb-side sb-side-left -->\n",
              "    </div><!-- /.sb-box -->\n",
              "      "
            ],
            "text/plain": [
              "<IPython.core.display.HTML object>"
            ]
          },
          "metadata": {}
        },
        {
          "output_type": "display_data",
          "data": {
            "application/javascript": [
              "window[\"11ca11a0-4062-11ec-a67f-0242ac1c0002\"] = google.colab.output.setActiveOutputArea(window[\"11c6a92a-4062-11ec-a67f-0242ac1c0002\"]);\n",
              "//# sourceURL=js_a47222b59b"
            ],
            "text/plain": [
              "<IPython.core.display.Javascript object>"
            ]
          },
          "metadata": {}
        },
        {
          "output_type": "display_data",
          "data": {
            "application/javascript": [
              "window[\"1916dab0-4062-11ec-a67f-0242ac1c0002\"] = google.colab.output.getActiveOutputArea();\n",
              "//# sourceURL=js_37c939d139"
            ],
            "text/plain": [
              "<IPython.core.display.Javascript object>"
            ]
          },
          "metadata": {}
        },
        {
          "output_type": "display_data",
          "data": {
            "application/javascript": [
              "window[\"191751c0-4062-11ec-a67f-0242ac1c0002\"] = document.querySelector(\"#output\");\n",
              "//# sourceURL=js_c90e0c94f8"
            ],
            "text/plain": [
              "<IPython.core.display.Javascript object>"
            ]
          },
          "metadata": {}
        },
        {
          "output_type": "display_data",
          "data": {
            "application/javascript": [
              "window[\"1917ca88-4062-11ec-a67f-0242ac1c0002\"] = google.colab.output.setActiveOutputArea(window[\"191751c0-4062-11ec-a67f-0242ac1c0002\"]);\n",
              "//# sourceURL=js_efec4a632c"
            ],
            "text/plain": [
              "<IPython.core.display.Javascript object>"
            ]
          },
          "metadata": {}
        },
        {
          "output_type": "display_data",
          "data": {
            "text/html": [
              "\n",
              "      <div class=\"sb-box\">\n",
              "        <div class=\"icon-img icon-img-right\">\n",
              "            <img src=\"https://4.bp.blogspot.com/-SC6_6x7MQnc/Wn1ZUkdcPxI/AAAAAAABKK8/qqHVlc8E7lEGsEwJ_J8H6Gp9RvfhTX67wCLcBGAs/s800/animal_smile_neko.png\" width=\"60px\">\n",
              "        </div><!-- /.icon-img icon-img-right -->\n",
              "        <div class=\"icon-name icon-name-right\">あなた</div>\n",
              "        <div class=\"sb-side sb-side-right\">\n",
              "            <div class=\"sb-txt sb-txt-right\">\n",
              "              よろしく\n",
              "            </div><!-- /.sb-txt sb-txt-right -->\n",
              "        </div><!-- /.sb-side sb-side-right -->\n",
              "      </div><!-- /.sb-box -->\n",
              "      "
            ],
            "text/plain": [
              "<IPython.core.display.HTML object>"
            ]
          },
          "metadata": {}
        },
        {
          "output_type": "display_data",
          "data": {
            "application/javascript": [
              "window[\"191944c6-4062-11ec-a67f-0242ac1c0002\"] = google.colab.output.setActiveOutputArea(window[\"1916dab0-4062-11ec-a67f-0242ac1c0002\"]);\n",
              "//# sourceURL=js_55d07f45fe"
            ],
            "text/plain": [
              "<IPython.core.display.Javascript object>"
            ]
          },
          "metadata": {}
        },
        {
          "output_type": "display_data",
          "data": {
            "application/javascript": [
              "window[\"1919e624-4062-11ec-a67f-0242ac1c0002\"] = google.colab.output.getActiveOutputArea();\n",
              "//# sourceURL=js_7f400f9421"
            ],
            "text/plain": [
              "<IPython.core.display.Javascript object>"
            ]
          },
          "metadata": {}
        },
        {
          "output_type": "display_data",
          "data": {
            "application/javascript": [
              "window[\"191a7ba2-4062-11ec-a67f-0242ac1c0002\"] = document.querySelector(\"#output\");\n",
              "//# sourceURL=js_f59fefdb1c"
            ],
            "text/plain": [
              "<IPython.core.display.Javascript object>"
            ]
          },
          "metadata": {}
        },
        {
          "output_type": "display_data",
          "data": {
            "application/javascript": [
              "window[\"191b0676-4062-11ec-a67f-0242ac1c0002\"] = google.colab.output.setActiveOutputArea(window[\"191a7ba2-4062-11ec-a67f-0242ac1c0002\"]);\n",
              "//# sourceURL=js_30f75fdfc2"
            ],
            "text/plain": [
              "<IPython.core.display.Javascript object>"
            ]
          },
          "metadata": {}
        },
        {
          "output_type": "display_data",
          "data": {
            "text/html": [
              "\n",
              "      <div class=\"sb-box\">\n",
              "        <div class=\"icon-img icon-img-left\">\n",
              "            <img src=\"https://2.bp.blogspot.com/-mRJKwyORJkQ/Wn1ZTOBrszI/AAAAAAABKKs/Bg5yjLL9RYwmfUM0pEkBA3Ky3ui0IOZWQCLcBGAs/s800/animal_smile_inu.png\" width=\"60px\">\n",
              "        </div><!-- /.icon-img icon-img-left -->\n",
              "        <div class=\"icon-name icon-name-left\">ボット</div>\n",
              "        <div class=\"sb-side sb-side-left\">\n",
              "            <div class=\"sb-txt sb-txt-left\">\n",
              "              なんと\n",
              "            </div><!-- /.sb-txt sb-txt-left -->\n",
              "        </div><!-- /.sb-side sb-side-left -->\n",
              "    </div><!-- /.sb-box -->\n",
              "      "
            ],
            "text/plain": [
              "<IPython.core.display.HTML object>"
            ]
          },
          "metadata": {}
        },
        {
          "output_type": "display_data",
          "data": {
            "application/javascript": [
              "window[\"191c3028-4062-11ec-a67f-0242ac1c0002\"] = google.colab.output.setActiveOutputArea(window[\"1919e624-4062-11ec-a67f-0242ac1c0002\"]);\n",
              "//# sourceURL=js_41dc861da5"
            ],
            "text/plain": [
              "<IPython.core.display.Javascript object>"
            ]
          },
          "metadata": {}
        }
      ]
    },
    {
      "cell_type": "markdown",
      "metadata": {
        "id": "omi3tC13Xl11"
      },
      "source": [
        "## フレームで占いを作ります"
      ]
    },
    {
      "cell_type": "code",
      "metadata": {
        "colab": {
          "base_uri": "https://localhost:8080/",
          "height": 661
        },
        "id": "vwY8GfoGXsIX",
        "outputId": "79de286b-6f1d-41e3-c468-236886aa348e"
      },
      "source": [
        "# フレーム 状態をもつ辞書\n",
        "# 'name', 'birthday', 'asking'\n",
        "frame = {}\n",
        "\n",
        "def uranai(input_text):\n",
        "  global frame # 外部の状態を参照する\n",
        "  if 'asking' in frame:  # asking から更新する\n",
        "    frame[frame['asking']] = input_text\n",
        "    del frame['asking']\n",
        "\n",
        "  if 'name' not in frame:\n",
        "    frame['asking'] = 'name' # 名前をたずねる  \n",
        "    return 'あなたの名前は？'\n",
        "\n",
        "  if 'name' in frame and 'birthday' not in frame:\n",
        "    frame['asking'] = 'birthday' # 誕生日をたずねる    \n",
        "    return 'あなたの誕生日は？'\n",
        "\n",
        "  if 'name' in frame and 'birthday' in frame:\n",
        "    # 占います\n",
        "    number = hash(frame['name']+frame['birthday']) % 10\n",
        "    if number > 5:\n",
        "      return 'あなたの運勢は大吉'\n",
        "    return 'あなたの運勢は吉'\n",
        "\n",
        "  return output_text\n",
        "\n",
        "run_chat(chat=uranai)"
      ],
      "execution_count": null,
      "outputs": [
        {
          "output_type": "display_data",
          "data": {
            "text/html": [
              "\n",
              "      <style>\n",
              "        /* 全体 */\n",
              "        .sb-box {\n",
              "            position: relative;\n",
              "            overflow: hidden;\n",
              "        }\n",
              "\n",
              "        /* アイコン画像 */\n",
              "        .icon-img {\n",
              "            position: absolute;\n",
              "            overflow: hidden;\n",
              "            top: 0;\n",
              "            width: 80px;\n",
              "            height: 80px;\n",
              "        }\n",
              "\n",
              "        /* アイコン画像（左） */\n",
              "        .icon-img-left {\n",
              "            left: 0;\n",
              "        }\n",
              "\n",
              "        /* アイコン画像（右） */\n",
              "        .icon-img-right {\n",
              "            right: 0;\n",
              "        }\n",
              "\n",
              "        /* アイコン画像 */\n",
              "        .icon-img img {\n",
              "            border-radius: 50%;\n",
              "            border: 2px solid #eee;\n",
              "        }\n",
              "\n",
              "        /* アイコンネーム */\n",
              "        .icon-name {\n",
              "            position: absolute;\n",
              "            width: 80px;\n",
              "            text-align: center;\n",
              "            top: 83px;\n",
              "            color: #fff;\n",
              "            font-size: 10px;\n",
              "        }\n",
              "\n",
              "        /* アイコンネーム（左） */\n",
              "        .icon-name-left {\n",
              "            left: 0;\n",
              "        }\n",
              "\n",
              "        /* アイコンネーム（右） */\n",
              "        .icon-name-right {\n",
              "            right: 0;\n",
              "        }\n",
              "\n",
              "        /* 吹き出し */\n",
              "        .sb-side {\n",
              "            position: relative;\n",
              "            float: left;\n",
              "            margin: 0 105px 40px 105px;\n",
              "        }\n",
              "\n",
              "        .sb-side-right {\n",
              "            float: right;\n",
              "        }\n",
              "\n",
              "        /* 吹き出し内のテキスト */\n",
              "        .sb-txt {\n",
              "            position: relative;\n",
              "            border: 2px solid #eee;\n",
              "            border-radius: 6px;\n",
              "            background: #eee;\n",
              "            color: #333;\n",
              "            font-size: 15px;\n",
              "            line-height: 1.7;\n",
              "            padding: 18px;\n",
              "        }\n",
              "\n",
              "        .sb-txt>p:last-of-type {\n",
              "            padding-bottom: 0;\n",
              "            margin-bottom: 0;\n",
              "        }\n",
              "\n",
              "        /* 吹き出しの三角 */\n",
              "        .sb-txt:before {\n",
              "            content: \"\";\n",
              "            position: absolute;\n",
              "            border-style: solid;\n",
              "            top: 16px;\n",
              "            z-index: 3;\n",
              "        }\n",
              "\n",
              "        .sb-txt:after {\n",
              "            content: \"\";\n",
              "            position: absolute;\n",
              "            border-style: solid;\n",
              "            top: 15px;\n",
              "            z-index: 2;\n",
              "        }\n",
              "\n",
              "        /* 吹き出しの三角（左） */\n",
              "        .sb-txt-left:before {\n",
              "            left: -7px;\n",
              "            border-width: 7px 10px 7px 0;\n",
              "            border-color: transparent #eee transparent transparent;\n",
              "        }\n",
              "\n",
              "        .sb-txt-left:after {\n",
              "            left: -10px;\n",
              "            border-width: 8px 10px 8px 0;\n",
              "            border-color: transparent #eee transparent transparent;\n",
              "        }\n",
              "\n",
              "        /* 吹き出しの三角（右） */\n",
              "        .sb-txt-right:before {\n",
              "            right: -7px;\n",
              "            border-width: 7px 0 7px 10px;\n",
              "            border-color: transparent transparent transparent #eee;\n",
              "        }\n",
              "\n",
              "        .sb-txt-right:after {\n",
              "            right: -10px;\n",
              "            border-width: 8px 0 8px 10px;\n",
              "            border-color: transparent transparent transparent #eee;\n",
              "        }\n",
              "\n",
              "        /* 767px（iPad）以下 */\n",
              "\n",
              "        @media (max-width: 767px) {\n",
              "\n",
              "            .icon-img {\n",
              "                width: 60px;\n",
              "                height: 60px;\n",
              "            }\n",
              "\n",
              "            /* アイコンネーム */\n",
              "            .icon-name {\n",
              "                width: 60px;\n",
              "                top: 62px;\n",
              "                font-size: 9px;\n",
              "            }\n",
              "\n",
              "            /* 吹き出し（左） */\n",
              "            .sb-side-left {\n",
              "                margin: 0 0 30px 78px;\n",
              "                /* 吹き出し（左）の上下左右の余白を狭く */\n",
              "            }\n",
              "\n",
              "            /* 吹き出し（右） */\n",
              "            .sb-side-right {\n",
              "                margin: 0 78px 30px 0;\n",
              "                /* 吹き出し（右）の上下左右の余白を狭く */\n",
              "            }\n",
              "\n",
              "            /* 吹き出し内のテキスト */\n",
              "            .sb-txt {\n",
              "                padding: 12px;\n",
              "                /* 吹き出し内の上下左右の余白を-6px */\n",
              "            }\n",
              "        }\n",
              "    </style>\n",
              "      <script>\n",
              "        var inputPane = document.getElementById('input');\n",
              "        inputPane.addEventListener('keydown', (e) => {\n",
              "          if(e.keyCode == 13) {\n",
              "            google.colab.kernel.invokeFunction('notebook.Convert', [inputPane.value], {});\n",
              "            inputPane.value=''\n",
              "          }\n",
              "        });\n",
              "      </script>\n",
              "    <div id='output' style='background: #66d;'></div>\n",
              "    <div style='text-align: right'><textarea id='input' style='width: 100%; background: #eee;'></textarea></div>\n",
              "      "
            ],
            "text/plain": [
              "<IPython.core.display.HTML object>"
            ]
          },
          "metadata": {}
        },
        {
          "output_type": "display_data",
          "data": {
            "application/javascript": [
              "window[\"403ceec0-4064-11ec-a67f-0242ac1c0002\"] = google.colab.output.getActiveOutputArea();\n",
              "//# sourceURL=js_28d6cf749c"
            ],
            "text/plain": [
              "<IPython.core.display.Javascript object>"
            ]
          },
          "metadata": {}
        },
        {
          "output_type": "display_data",
          "data": {
            "application/javascript": [
              "window[\"403d7958-4064-11ec-a67f-0242ac1c0002\"] = document.querySelector(\"#output\");\n",
              "//# sourceURL=js_15bdce1978"
            ],
            "text/plain": [
              "<IPython.core.display.Javascript object>"
            ]
          },
          "metadata": {}
        },
        {
          "output_type": "display_data",
          "data": {
            "application/javascript": [
              "window[\"403dea8c-4064-11ec-a67f-0242ac1c0002\"] = google.colab.output.setActiveOutputArea(window[\"403d7958-4064-11ec-a67f-0242ac1c0002\"]);\n",
              "//# sourceURL=js_6663d46b16"
            ],
            "text/plain": [
              "<IPython.core.display.Javascript object>"
            ]
          },
          "metadata": {}
        },
        {
          "output_type": "display_data",
          "data": {
            "text/html": [
              "\n",
              "      <div class=\"sb-box\">\n",
              "        <div class=\"icon-img icon-img-left\">\n",
              "            <img src=\"https://2.bp.blogspot.com/-mRJKwyORJkQ/Wn1ZTOBrszI/AAAAAAABKKs/Bg5yjLL9RYwmfUM0pEkBA3Ky3ui0IOZWQCLcBGAs/s800/animal_smile_inu.png\" width=\"60px\">\n",
              "        </div><!-- /.icon-img icon-img-left -->\n",
              "        <div class=\"icon-name icon-name-left\">ボット</div>\n",
              "        <div class=\"sb-side sb-side-left\">\n",
              "            <div class=\"sb-txt sb-txt-left\">\n",
              "              占いするよ\n",
              "            </div><!-- /.sb-txt sb-txt-left -->\n",
              "        </div><!-- /.sb-side sb-side-left -->\n",
              "    </div><!-- /.sb-box -->\n",
              "      "
            ],
            "text/plain": [
              "<IPython.core.display.HTML object>"
            ]
          },
          "metadata": {}
        },
        {
          "output_type": "display_data",
          "data": {
            "application/javascript": [
              "window[\"403e9b4e-4064-11ec-a67f-0242ac1c0002\"] = google.colab.output.setActiveOutputArea(window[\"403ceec0-4064-11ec-a67f-0242ac1c0002\"]);\n",
              "//# sourceURL=js_cf62985552"
            ],
            "text/plain": [
              "<IPython.core.display.Javascript object>"
            ]
          },
          "metadata": {}
        },
        {
          "output_type": "display_data",
          "data": {
            "application/javascript": [
              "window[\"442d0ace-4064-11ec-a67f-0242ac1c0002\"] = google.colab.output.getActiveOutputArea();\n",
              "//# sourceURL=js_a70b5e0d79"
            ],
            "text/plain": [
              "<IPython.core.display.Javascript object>"
            ]
          },
          "metadata": {}
        },
        {
          "output_type": "display_data",
          "data": {
            "application/javascript": [
              "window[\"442d8832-4064-11ec-a67f-0242ac1c0002\"] = document.querySelector(\"#output\");\n",
              "//# sourceURL=js_34b80c977d"
            ],
            "text/plain": [
              "<IPython.core.display.Javascript object>"
            ]
          },
          "metadata": {}
        },
        {
          "output_type": "display_data",
          "data": {
            "application/javascript": [
              "window[\"442e0212-4064-11ec-a67f-0242ac1c0002\"] = google.colab.output.setActiveOutputArea(window[\"442d8832-4064-11ec-a67f-0242ac1c0002\"]);\n",
              "//# sourceURL=js_2e95a12a4c"
            ],
            "text/plain": [
              "<IPython.core.display.Javascript object>"
            ]
          },
          "metadata": {}
        },
        {
          "output_type": "display_data",
          "data": {
            "text/html": [
              "\n",
              "      <div class=\"sb-box\">\n",
              "        <div class=\"icon-img icon-img-right\">\n",
              "            <img src=\"https://4.bp.blogspot.com/-SC6_6x7MQnc/Wn1ZUkdcPxI/AAAAAAABKK8/qqHVlc8E7lEGsEwJ_J8H6Gp9RvfhTX67wCLcBGAs/s800/animal_smile_neko.png\" width=\"60px\">\n",
              "        </div><!-- /.icon-img icon-img-right -->\n",
              "        <div class=\"icon-name icon-name-right\">あなた</div>\n",
              "        <div class=\"sb-side sb-side-right\">\n",
              "            <div class=\"sb-txt sb-txt-right\">\n",
              "              よろしく\n",
              "            </div><!-- /.sb-txt sb-txt-right -->\n",
              "        </div><!-- /.sb-side sb-side-right -->\n",
              "      </div><!-- /.sb-box -->\n",
              "      "
            ],
            "text/plain": [
              "<IPython.core.display.HTML object>"
            ]
          },
          "metadata": {}
        },
        {
          "output_type": "display_data",
          "data": {
            "application/javascript": [
              "window[\"442f0144-4064-11ec-a67f-0242ac1c0002\"] = google.colab.output.setActiveOutputArea(window[\"442d0ace-4064-11ec-a67f-0242ac1c0002\"]);\n",
              "//# sourceURL=js_db8eec2de3"
            ],
            "text/plain": [
              "<IPython.core.display.Javascript object>"
            ]
          },
          "metadata": {}
        },
        {
          "output_type": "display_data",
          "data": {
            "application/javascript": [
              "window[\"45610684-4064-11ec-a67f-0242ac1c0002\"] = google.colab.output.getActiveOutputArea();\n",
              "//# sourceURL=js_dd8fbfd596"
            ],
            "text/plain": [
              "<IPython.core.display.Javascript object>"
            ]
          },
          "metadata": {}
        },
        {
          "output_type": "display_data",
          "data": {
            "application/javascript": [
              "window[\"45615a30-4064-11ec-a67f-0242ac1c0002\"] = document.querySelector(\"#output\");\n",
              "//# sourceURL=js_988db81ed9"
            ],
            "text/plain": [
              "<IPython.core.display.Javascript object>"
            ]
          },
          "metadata": {}
        },
        {
          "output_type": "display_data",
          "data": {
            "application/javascript": [
              "window[\"4561b4c6-4064-11ec-a67f-0242ac1c0002\"] = google.colab.output.setActiveOutputArea(window[\"45615a30-4064-11ec-a67f-0242ac1c0002\"]);\n",
              "//# sourceURL=js_17c1ac58e3"
            ],
            "text/plain": [
              "<IPython.core.display.Javascript object>"
            ]
          },
          "metadata": {}
        },
        {
          "output_type": "display_data",
          "data": {
            "text/html": [
              "\n",
              "      <div class=\"sb-box\">\n",
              "        <div class=\"icon-img icon-img-left\">\n",
              "            <img src=\"https://2.bp.blogspot.com/-mRJKwyORJkQ/Wn1ZTOBrszI/AAAAAAABKKs/Bg5yjLL9RYwmfUM0pEkBA3Ky3ui0IOZWQCLcBGAs/s800/animal_smile_inu.png\" width=\"60px\">\n",
              "        </div><!-- /.icon-img icon-img-left -->\n",
              "        <div class=\"icon-name icon-name-left\">ボット</div>\n",
              "        <div class=\"sb-side sb-side-left\">\n",
              "            <div class=\"sb-txt sb-txt-left\">\n",
              "              あなたの名前は？\n",
              "            </div><!-- /.sb-txt sb-txt-left -->\n",
              "        </div><!-- /.sb-side sb-side-left -->\n",
              "    </div><!-- /.sb-box -->\n",
              "      "
            ],
            "text/plain": [
              "<IPython.core.display.HTML object>"
            ]
          },
          "metadata": {}
        },
        {
          "output_type": "display_data",
          "data": {
            "application/javascript": [
              "window[\"456238e2-4064-11ec-a67f-0242ac1c0002\"] = google.colab.output.setActiveOutputArea(window[\"45610684-4064-11ec-a67f-0242ac1c0002\"]);\n",
              "//# sourceURL=js_8a76e3e902"
            ],
            "text/plain": [
              "<IPython.core.display.Javascript object>"
            ]
          },
          "metadata": {}
        },
        {
          "output_type": "display_data",
          "data": {
            "application/javascript": [
              "window[\"47cdbeb2-4064-11ec-a67f-0242ac1c0002\"] = google.colab.output.getActiveOutputArea();\n",
              "//# sourceURL=js_df6d420a08"
            ],
            "text/plain": [
              "<IPython.core.display.Javascript object>"
            ]
          },
          "metadata": {}
        },
        {
          "output_type": "display_data",
          "data": {
            "application/javascript": [
              "window[\"47ce3c02-4064-11ec-a67f-0242ac1c0002\"] = document.querySelector(\"#output\");\n",
              "//# sourceURL=js_b6bef3f911"
            ],
            "text/plain": [
              "<IPython.core.display.Javascript object>"
            ]
          },
          "metadata": {}
        },
        {
          "output_type": "display_data",
          "data": {
            "application/javascript": [
              "window[\"47ce74ba-4064-11ec-a67f-0242ac1c0002\"] = google.colab.output.setActiveOutputArea(window[\"47ce3c02-4064-11ec-a67f-0242ac1c0002\"]);\n",
              "//# sourceURL=js_29ab3231ec"
            ],
            "text/plain": [
              "<IPython.core.display.Javascript object>"
            ]
          },
          "metadata": {}
        },
        {
          "output_type": "display_data",
          "data": {
            "text/html": [
              "\n",
              "      <div class=\"sb-box\">\n",
              "        <div class=\"icon-img icon-img-right\">\n",
              "            <img src=\"https://4.bp.blogspot.com/-SC6_6x7MQnc/Wn1ZUkdcPxI/AAAAAAABKK8/qqHVlc8E7lEGsEwJ_J8H6Gp9RvfhTX67wCLcBGAs/s800/animal_smile_neko.png\" width=\"60px\">\n",
              "        </div><!-- /.icon-img icon-img-right -->\n",
              "        <div class=\"icon-name icon-name-right\">あなた</div>\n",
              "        <div class=\"sb-side sb-side-right\">\n",
              "            <div class=\"sb-txt sb-txt-right\">\n",
              "              ニャンコ\n",
              "\n",
              "            </div><!-- /.sb-txt sb-txt-right -->\n",
              "        </div><!-- /.sb-side sb-side-right -->\n",
              "      </div><!-- /.sb-box -->\n",
              "      "
            ],
            "text/plain": [
              "<IPython.core.display.HTML object>"
            ]
          },
          "metadata": {}
        },
        {
          "output_type": "display_data",
          "data": {
            "application/javascript": [
              "window[\"47cf3864-4064-11ec-a67f-0242ac1c0002\"] = google.colab.output.setActiveOutputArea(window[\"47cdbeb2-4064-11ec-a67f-0242ac1c0002\"]);\n",
              "//# sourceURL=js_d5a2c8a92d"
            ],
            "text/plain": [
              "<IPython.core.display.Javascript object>"
            ]
          },
          "metadata": {}
        },
        {
          "output_type": "display_data",
          "data": {
            "application/javascript": [
              "window[\"4a327b48-4064-11ec-a67f-0242ac1c0002\"] = google.colab.output.getActiveOutputArea();\n",
              "//# sourceURL=js_f5bb0f33a2"
            ],
            "text/plain": [
              "<IPython.core.display.Javascript object>"
            ]
          },
          "metadata": {}
        },
        {
          "output_type": "display_data",
          "data": {
            "application/javascript": [
              "window[\"4a32cbf2-4064-11ec-a67f-0242ac1c0002\"] = document.querySelector(\"#output\");\n",
              "//# sourceURL=js_0a34f86cef"
            ],
            "text/plain": [
              "<IPython.core.display.Javascript object>"
            ]
          },
          "metadata": {}
        },
        {
          "output_type": "display_data",
          "data": {
            "application/javascript": [
              "window[\"4a3328cc-4064-11ec-a67f-0242ac1c0002\"] = google.colab.output.setActiveOutputArea(window[\"4a32cbf2-4064-11ec-a67f-0242ac1c0002\"]);\n",
              "//# sourceURL=js_89f8fe37e2"
            ],
            "text/plain": [
              "<IPython.core.display.Javascript object>"
            ]
          },
          "metadata": {}
        },
        {
          "output_type": "display_data",
          "data": {
            "text/html": [
              "\n",
              "      <div class=\"sb-box\">\n",
              "        <div class=\"icon-img icon-img-left\">\n",
              "            <img src=\"https://2.bp.blogspot.com/-mRJKwyORJkQ/Wn1ZTOBrszI/AAAAAAABKKs/Bg5yjLL9RYwmfUM0pEkBA3Ky3ui0IOZWQCLcBGAs/s800/animal_smile_inu.png\" width=\"60px\">\n",
              "        </div><!-- /.icon-img icon-img-left -->\n",
              "        <div class=\"icon-name icon-name-left\">ボット</div>\n",
              "        <div class=\"sb-side sb-side-left\">\n",
              "            <div class=\"sb-txt sb-txt-left\">\n",
              "              あなたの誕生日は？\n",
              "            </div><!-- /.sb-txt sb-txt-left -->\n",
              "        </div><!-- /.sb-side sb-side-left -->\n",
              "    </div><!-- /.sb-box -->\n",
              "      "
            ],
            "text/plain": [
              "<IPython.core.display.HTML object>"
            ]
          },
          "metadata": {}
        },
        {
          "output_type": "display_data",
          "data": {
            "application/javascript": [
              "window[\"4a340a62-4064-11ec-a67f-0242ac1c0002\"] = google.colab.output.setActiveOutputArea(window[\"4a327b48-4064-11ec-a67f-0242ac1c0002\"]);\n",
              "//# sourceURL=js_c311828536"
            ],
            "text/plain": [
              "<IPython.core.display.Javascript object>"
            ]
          },
          "metadata": {}
        },
        {
          "output_type": "display_data",
          "data": {
            "application/javascript": [
              "window[\"4ecbddca-4064-11ec-a67f-0242ac1c0002\"] = google.colab.output.getActiveOutputArea();\n",
              "//# sourceURL=js_89a1379de4"
            ],
            "text/plain": [
              "<IPython.core.display.Javascript object>"
            ]
          },
          "metadata": {}
        },
        {
          "output_type": "display_data",
          "data": {
            "application/javascript": [
              "window[\"4ecc4fee-4064-11ec-a67f-0242ac1c0002\"] = document.querySelector(\"#output\");\n",
              "//# sourceURL=js_1486c35c27"
            ],
            "text/plain": [
              "<IPython.core.display.Javascript object>"
            ]
          },
          "metadata": {}
        },
        {
          "output_type": "display_data",
          "data": {
            "application/javascript": [
              "window[\"4eccbcd6-4064-11ec-a67f-0242ac1c0002\"] = google.colab.output.setActiveOutputArea(window[\"4ecc4fee-4064-11ec-a67f-0242ac1c0002\"]);\n",
              "//# sourceURL=js_effaad473a"
            ],
            "text/plain": [
              "<IPython.core.display.Javascript object>"
            ]
          },
          "metadata": {}
        },
        {
          "output_type": "display_data",
          "data": {
            "text/html": [
              "\n",
              "      <div class=\"sb-box\">\n",
              "        <div class=\"icon-img icon-img-right\">\n",
              "            <img src=\"https://4.bp.blogspot.com/-SC6_6x7MQnc/Wn1ZUkdcPxI/AAAAAAABKK8/qqHVlc8E7lEGsEwJ_J8H6Gp9RvfhTX67wCLcBGAs/s800/animal_smile_neko.png\" width=\"60px\">\n",
              "        </div><!-- /.icon-img icon-img-right -->\n",
              "        <div class=\"icon-name icon-name-right\">あなた</div>\n",
              "        <div class=\"sb-side sb-side-right\">\n",
              "            <div class=\"sb-txt sb-txt-right\">\n",
              "              12/24\n",
              "\n",
              "            </div><!-- /.sb-txt sb-txt-right -->\n",
              "        </div><!-- /.sb-side sb-side-right -->\n",
              "      </div><!-- /.sb-box -->\n",
              "      "
            ],
            "text/plain": [
              "<IPython.core.display.HTML object>"
            ]
          },
          "metadata": {}
        },
        {
          "output_type": "display_data",
          "data": {
            "application/javascript": [
              "window[\"4ecd7a7c-4064-11ec-a67f-0242ac1c0002\"] = google.colab.output.setActiveOutputArea(window[\"4ecbddca-4064-11ec-a67f-0242ac1c0002\"]);\n",
              "//# sourceURL=js_a1d942bece"
            ],
            "text/plain": [
              "<IPython.core.display.Javascript object>"
            ]
          },
          "metadata": {}
        },
        {
          "output_type": "display_data",
          "data": {
            "application/javascript": [
              "window[\"4f66aca6-4064-11ec-a67f-0242ac1c0002\"] = google.colab.output.getActiveOutputArea();\n",
              "//# sourceURL=js_118402153c"
            ],
            "text/plain": [
              "<IPython.core.display.Javascript object>"
            ]
          },
          "metadata": {}
        },
        {
          "output_type": "display_data",
          "data": {
            "application/javascript": [
              "window[\"4f671358-4064-11ec-a67f-0242ac1c0002\"] = document.querySelector(\"#output\");\n",
              "//# sourceURL=js_50070c90e6"
            ],
            "text/plain": [
              "<IPython.core.display.Javascript object>"
            ]
          },
          "metadata": {}
        },
        {
          "output_type": "display_data",
          "data": {
            "application/javascript": [
              "window[\"4f6783d8-4064-11ec-a67f-0242ac1c0002\"] = google.colab.output.setActiveOutputArea(window[\"4f671358-4064-11ec-a67f-0242ac1c0002\"]);\n",
              "//# sourceURL=js_517ce26569"
            ],
            "text/plain": [
              "<IPython.core.display.Javascript object>"
            ]
          },
          "metadata": {}
        },
        {
          "output_type": "display_data",
          "data": {
            "text/html": [
              "\n",
              "      <div class=\"sb-box\">\n",
              "        <div class=\"icon-img icon-img-left\">\n",
              "            <img src=\"https://2.bp.blogspot.com/-mRJKwyORJkQ/Wn1ZTOBrszI/AAAAAAABKKs/Bg5yjLL9RYwmfUM0pEkBA3Ky3ui0IOZWQCLcBGAs/s800/animal_smile_inu.png\" width=\"60px\">\n",
              "        </div><!-- /.icon-img icon-img-left -->\n",
              "        <div class=\"icon-name icon-name-left\">ボット</div>\n",
              "        <div class=\"sb-side sb-side-left\">\n",
              "            <div class=\"sb-txt sb-txt-left\">\n",
              "              あなたの運勢は大吉\n",
              "            </div><!-- /.sb-txt sb-txt-left -->\n",
              "        </div><!-- /.sb-side sb-side-left -->\n",
              "    </div><!-- /.sb-box -->\n",
              "      "
            ],
            "text/plain": [
              "<IPython.core.display.HTML object>"
            ]
          },
          "metadata": {}
        },
        {
          "output_type": "display_data",
          "data": {
            "application/javascript": [
              "window[\"4f686366-4064-11ec-a67f-0242ac1c0002\"] = google.colab.output.setActiveOutputArea(window[\"4f66aca6-4064-11ec-a67f-0242ac1c0002\"]);\n",
              "//# sourceURL=js_c1b23f37ab"
            ],
            "text/plain": [
              "<IPython.core.display.Javascript object>"
            ]
          },
          "metadata": {}
        }
      ]
    }
  ]
}